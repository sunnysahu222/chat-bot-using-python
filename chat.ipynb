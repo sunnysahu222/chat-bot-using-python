{
 "cells": [
  {
   "cell_type": "code",
   "execution_count": 4,
   "metadata": {},
   "outputs": [
    {
     "name": "stdout",
     "output_type": "stream",
     "text": [
      "Requirement already satisfied: nltk in c:\\users\\sunny\\appdata\\local\\packages\\pythonsoftwarefoundation.python.3.11_qbz5n2kfra8p0\\localcache\\local-packages\\python311\\site-packages (3.5)\n",
      "Requirement already satisfied: click in c:\\users\\sunny\\appdata\\local\\packages\\pythonsoftwarefoundation.python.3.11_qbz5n2kfra8p0\\localcache\\local-packages\\python311\\site-packages (from nltk) (8.1.7)\n",
      "Requirement already satisfied: joblib in c:\\users\\sunny\\appdata\\local\\packages\\pythonsoftwarefoundation.python.3.11_qbz5n2kfra8p0\\localcache\\local-packages\\python311\\site-packages (from nltk) (1.3.2)\n",
      "Requirement already satisfied: regex in c:\\users\\sunny\\appdata\\local\\packages\\pythonsoftwarefoundation.python.3.11_qbz5n2kfra8p0\\localcache\\local-packages\\python311\\site-packages (from nltk) (2023.10.3)\n",
      "Requirement already satisfied: tqdm in c:\\users\\sunny\\appdata\\local\\packages\\pythonsoftwarefoundation.python.3.11_qbz5n2kfra8p0\\localcache\\local-packages\\python311\\site-packages (from nltk) (4.66.1)\n",
      "Requirement already satisfied: colorama in c:\\users\\sunny\\appdata\\local\\packages\\pythonsoftwarefoundation.python.3.11_qbz5n2kfra8p0\\localcache\\local-packages\\python311\\site-packages (from click->nltk) (0.4.6)\n",
      "Note: you may need to restart the kernel to use updated packages.\n"
     ]
    }
   ],
   "source": [
    "pip install nltk\n"
   ]
  },
  {
   "cell_type": "code",
   "execution_count": 5,
   "metadata": {},
   "outputs": [
    {
     "name": "stderr",
     "output_type": "stream",
     "text": [
      "[nltk_data] Downloading package punkt to\n",
      "[nltk_data]     C:\\Users\\sunny\\AppData\\Roaming\\nltk_data...\n",
      "[nltk_data]   Package punkt is already up-to-date!\n",
      "[nltk_data] Downloading package wordnet to\n",
      "[nltk_data]     C:\\Users\\sunny\\AppData\\Roaming\\nltk_data...\n",
      "[nltk_data]   Package wordnet is already up-to-date!\n",
      "[nltk_data] Downloading package omw-1.4 to\n",
      "[nltk_data]     C:\\Users\\sunny\\AppData\\Roaming\\nltk_data...\n",
      "[nltk_data]   Package omw-1.4 is already up-to-date!\n"
     ]
    },
    {
     "data": {
      "text/plain": [
       "True"
      ]
     },
     "execution_count": 5,
     "metadata": {},
     "output_type": "execute_result"
    }
   ],
   "source": [
    "import nltk\n",
    "nltk.download('punkt')\n",
    "nltk.download('wordnet')\n",
    "nltk.download('omw-1.4')\n"
   ]
  },
  {
   "cell_type": "code",
   "execution_count": 6,
   "metadata": {},
   "outputs": [
    {
     "name": "stdout",
     "output_type": "stream",
     "text": [
      "Chatbot: Hi! How can I help you today?\n",
      "Chatbot: Hey!\n",
      "Chatbot: Hello!\n",
      "Chatbot: Good day!\n",
      "Chatbot: Hey!\n",
      "Chatbot: Hello!\n",
      "Chatbot: Hello!\n",
      "Chatbot: Hi there!\n",
      "Chatbot: Good day!\n",
      "Chatbot: Hello!\n",
      "Chatbot: Good day!\n",
      "Chatbot: Hi there!\n",
      "Chatbot: Hey!\n",
      "Chatbot: Hey!\n",
      "Chatbot: Hello!\n",
      "Chatbot: Good day!\n",
      "Chatbot: Hello!\n",
      "Chatbot: Hello!\n",
      "Chatbot: Hi there!\n",
      "Chatbot: Hello!\n",
      "Chatbot: Hey!\n",
      "Chatbot: Hi there!\n",
      "Chatbot: Hello!\n",
      "Chatbot: Hello!\n",
      "Chatbot: Good day!\n",
      "Chatbot: Good day!\n",
      "Chatbot: Good day!\n",
      "Chatbot: Hello!\n",
      "Chatbot: Hi there!\n",
      "Chatbot: Hi there!\n",
      "Chatbot: Good day!\n",
      "Chatbot: Good day!\n",
      "Chatbot: Good day!\n",
      "Chatbot: Good day!\n",
      "Chatbot: Hey!\n",
      "Chatbot: Hey!\n",
      "Chatbot: Hey!\n",
      "Chatbot: Hi there!\n",
      "Chatbot: Hey!\n",
      "Chatbot: Hey!\n",
      "Chatbot: Hey!\n",
      "Chatbot: Hello!\n"
     ]
    }
   ],
   "source": [
    "import nltk\n",
    "from nltk.stem import WordNetLemmatizer\n",
    "from nltk.tokenize import word_tokenize\n",
    "import json\n",
    "import random\n",
    "\n",
    "lemmatizer = WordNetLemmatizer()\n",
    "\n",
    "class Chatbot:\n",
    "    def __init__(self, intents_file):\n",
    "        self.intents = self.load_intents(intents_file)\n",
    "        self.context = {}\n",
    "    \n",
    "    def load_intents(self, file):\n",
    "        with open(file) as f:\n",
    "            intents = json.load(f)\n",
    "        return intents\n",
    "    \n",
    "    def preprocess_input(self, user_input):\n",
    "        tokens = word_tokenize(user_input)\n",
    "        tokens = [lemmatizer.lemmatize(token.lower()) for token in tokens]\n",
    "        return tokens\n",
    "    \n",
    "    def get_intent(self, tokens):\n",
    "        for intent in self.intents['intents']:\n",
    "            if all(token in intent['patterns'] for token in tokens):\n",
    "                return intent\n",
    "        return None\n",
    "    \n",
    "    def generate_response(self, intent, user_id):\n",
    "        if 'context_set' in intent:\n",
    "            self.context[user_id] = intent['context_set']\n",
    "        if 'context_filter' in intent and user_id in self.context:\n",
    "            if self.context[user_id] == intent['context_filter']:\n",
    "                return random.choice(intent['responses'])\n",
    "        else:\n",
    "            return random.choice(intent['responses'])\n",
    "        return \"I'm sorry, I don't understand that.\"\n",
    "    \n",
    "    def chat(self, user_input, user_id):\n",
    "        tokens = self.preprocess_input(user_input)\n",
    "        intent = self.get_intent(tokens)\n",
    "        if intent:\n",
    "            return self.generate_response(intent, user_id)\n",
    "        else:\n",
    "            return \"I'm sorry, I don't understand that.\"\n",
    "\n",
    "if __name__ == \"__main__\":\n",
    "    chatbot = Chatbot(\"intents.json\")\n",
    "\n",
    "    print(\"Chatbot: Hi! How can I help you today?\")\n",
    "    while True:\n",
    "        user_input = input(\"You: \")\n",
    "        if user_input.lower() == \"exit\":\n",
    "            print(\"Chatbot: Goodbye!\")\n",
    "            break\n",
    "        user_id = 1  # For simplicity, we use a static user_id in this example\n",
    "        response = chatbot.chat(user_input, user_id)\n",
    "        print(f\"Chatbot: {response}\")\n"
   ]
  }
 ],
 "metadata": {
  "kernelspec": {
   "display_name": "Python 3",
   "language": "python",
   "name": "python3"
  },
  "language_info": {
   "codemirror_mode": {
    "name": "ipython",
    "version": 3
   },
   "file_extension": ".py",
   "mimetype": "text/x-python",
   "name": "python",
   "nbconvert_exporter": "python",
   "pygments_lexer": "ipython3",
   "version": "3.11.9"
  }
 },
 "nbformat": 4,
 "nbformat_minor": 2
}
